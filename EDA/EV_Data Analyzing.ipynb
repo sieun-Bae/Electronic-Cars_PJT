{
 "cells": [
  {
   "cell_type": "code",
   "execution_count": 56,
   "metadata": {},
   "outputs": [],
   "source": [
    "import pandas as pd\n",
    "import numpy as np\n",
    "import matplotlib.pyplot as plt\n",
    "import seaborn as sns"
   ]
  },
  {
   "cell_type": "code",
   "execution_count": 57,
   "metadata": {},
   "outputs": [],
   "source": [
    "#-*- coding: utf-8 -*-"
   ]
  },
  {
   "cell_type": "code",
   "execution_count": 58,
   "metadata": {},
   "outputs": [],
   "source": [
    "frame = pd.read_excel('EV_rawdata.xlsx', 'Sheet1')"
   ]
  },
  {
   "cell_type": "markdown",
   "metadata": {},
   "source": [
    "#### 시도별 인구수"
   ]
  },
  {
   "cell_type": "code",
   "execution_count": 59,
   "metadata": {},
   "outputs": [],
   "source": [
    "p_frame = pd.read_excel('2018.xlsx',)"
   ]
  },
  {
   "cell_type": "code",
   "execution_count": 60,
   "metadata": {},
   "outputs": [
    {
     "data": {
      "text/html": [
       "<div>\n",
       "<style scoped>\n",
       "    .dataframe tbody tr th:only-of-type {\n",
       "        vertical-align: middle;\n",
       "    }\n",
       "\n",
       "    .dataframe tbody tr th {\n",
       "        vertical-align: top;\n",
       "    }\n",
       "\n",
       "    .dataframe thead th {\n",
       "        text-align: right;\n",
       "    }\n",
       "</style>\n",
       "<table border=\"1\" class=\"dataframe\">\n",
       "  <thead>\n",
       "    <tr style=\"text-align: right;\">\n",
       "      <th></th>\n",
       "      <th>총인구수</th>\n",
       "      <th>0~9세</th>\n",
       "      <th>10~19세</th>\n",
       "      <th>20~29세</th>\n",
       "      <th>30~39세</th>\n",
       "      <th>40~49세</th>\n",
       "      <th>50~59세</th>\n",
       "      <th>60~69세</th>\n",
       "      <th>70~79세</th>\n",
       "      <th>80~89세</th>\n",
       "      <th>90~99세</th>\n",
       "      <th>100세 이상</th>\n",
       "    </tr>\n",
       "  </thead>\n",
       "  <tbody>\n",
       "    <tr>\n",
       "      <th>강원도</th>\n",
       "      <td>1529517</td>\n",
       "      <td>112624</td>\n",
       "      <td>149844</td>\n",
       "      <td>182184</td>\n",
       "      <td>174019</td>\n",
       "      <td>231438</td>\n",
       "      <td>268338</td>\n",
       "      <td>204719</td>\n",
       "      <td>135344</td>\n",
       "      <td>61700</td>\n",
       "      <td>9056</td>\n",
       "      <td>251</td>\n",
       "    </tr>\n",
       "    <tr>\n",
       "      <th>경기도</th>\n",
       "      <td>12962945</td>\n",
       "      <td>1209048</td>\n",
       "      <td>1381418</td>\n",
       "      <td>1740431</td>\n",
       "      <td>1935410</td>\n",
       "      <td>2266960</td>\n",
       "      <td>2116195</td>\n",
       "      <td>1272503</td>\n",
       "      <td>703185</td>\n",
       "      <td>296357</td>\n",
       "      <td>40410</td>\n",
       "      <td>1028</td>\n",
       "    </tr>\n",
       "    <tr>\n",
       "      <th>경상남도</th>\n",
       "      <td>3353810</td>\n",
       "      <td>296562</td>\n",
       "      <td>345595</td>\n",
       "      <td>393081</td>\n",
       "      <td>438438</td>\n",
       "      <td>547753</td>\n",
       "      <td>574318</td>\n",
       "      <td>401989</td>\n",
       "      <td>231658</td>\n",
       "      <td>110478</td>\n",
       "      <td>13669</td>\n",
       "      <td>269</td>\n",
       "    </tr>\n",
       "    <tr>\n",
       "      <th>경상북도</th>\n",
       "      <td>2659325</td>\n",
       "      <td>207551</td>\n",
       "      <td>244857</td>\n",
       "      <td>299024</td>\n",
       "      <td>317076</td>\n",
       "      <td>395937</td>\n",
       "      <td>463178</td>\n",
       "      <td>362578</td>\n",
       "      <td>233784</td>\n",
       "      <td>119425</td>\n",
       "      <td>15525</td>\n",
       "      <td>390</td>\n",
       "    </tr>\n",
       "    <tr>\n",
       "      <th>광주광역시</th>\n",
       "      <td>1450304</td>\n",
       "      <td>131232</td>\n",
       "      <td>171725</td>\n",
       "      <td>205127</td>\n",
       "      <td>199123</td>\n",
       "      <td>244252</td>\n",
       "      <td>229054</td>\n",
       "      <td>143974</td>\n",
       "      <td>86404</td>\n",
       "      <td>34695</td>\n",
       "      <td>4586</td>\n",
       "      <td>132</td>\n",
       "    </tr>\n",
       "  </tbody>\n",
       "</table>\n",
       "</div>"
      ],
      "text/plain": [
       "           총인구수     0~9세   10~19세   20~29세   30~39세   40~49세   50~59세  \\\n",
       "강원도     1529517   112624   149844   182184   174019   231438   268338   \n",
       "경기도    12962945  1209048  1381418  1740431  1935410  2266960  2116195   \n",
       "경상남도    3353810   296562   345595   393081   438438   547753   574318   \n",
       "경상북도    2659325   207551   244857   299024   317076   395937   463178   \n",
       "광주광역시   1450304   131232   171725   205127   199123   244252   229054   \n",
       "\n",
       "        60~69세  70~79세  80~89세  90~99세  100세 이상  \n",
       "강원도     204719  135344   61700    9056      251  \n",
       "경기도    1272503  703185  296357   40410     1028  \n",
       "경상남도    401989  231658  110478   13669      269  \n",
       "경상북도    362578  233784  119425   15525      390  \n",
       "광주광역시   143974   86404   34695    4586      132  "
      ]
     },
     "execution_count": 60,
     "metadata": {},
     "output_type": "execute_result"
    }
   ],
   "source": [
    "p_frame.head()"
   ]
  },
  {
   "cell_type": "code",
   "execution_count": 61,
   "metadata": {},
   "outputs": [],
   "source": [
    "p_frame['PopOfAdult'] = p_frame['총인구수']-(p_frame['0~9세']+p_frame['10~19세'])"
   ]
  },
  {
   "cell_type": "code",
   "execution_count": 62,
   "metadata": {},
   "outputs": [],
   "source": [
    "frame['PopPerEV'] = frame['EV']/p_frame['PopOfAdult'].values*100"
   ]
  },
  {
   "cell_type": "code",
   "execution_count": 63,
   "metadata": {},
   "outputs": [
    {
     "data": {
      "text/html": [
       "<div>\n",
       "<style scoped>\n",
       "    .dataframe tbody tr th:only-of-type {\n",
       "        vertical-align: middle;\n",
       "    }\n",
       "\n",
       "    .dataframe tbody tr th {\n",
       "        vertical-align: top;\n",
       "    }\n",
       "\n",
       "    .dataframe thead th {\n",
       "        text-align: right;\n",
       "    }\n",
       "</style>\n",
       "<table border=\"1\" class=\"dataframe\">\n",
       "  <thead>\n",
       "    <tr style=\"text-align: right;\">\n",
       "      <th></th>\n",
       "      <th>area</th>\n",
       "      <th>Charger</th>\n",
       "      <th>RapidCharger</th>\n",
       "      <th>RatioOfRC</th>\n",
       "      <th>EV</th>\n",
       "      <th>PopPerEV</th>\n",
       "    </tr>\n",
       "  </thead>\n",
       "  <tbody>\n",
       "    <tr>\n",
       "      <th>0</th>\n",
       "      <td>강원도</td>\n",
       "      <td>620</td>\n",
       "      <td>420</td>\n",
       "      <td>67.7</td>\n",
       "      <td>1260</td>\n",
       "      <td>0.099444</td>\n",
       "    </tr>\n",
       "    <tr>\n",
       "      <th>1</th>\n",
       "      <td>경기도</td>\n",
       "      <td>1782</td>\n",
       "      <td>780</td>\n",
       "      <td>43.7</td>\n",
       "      <td>5672</td>\n",
       "      <td>0.054683</td>\n",
       "    </tr>\n",
       "    <tr>\n",
       "      <th>2</th>\n",
       "      <td>경상남도</td>\n",
       "      <td>604</td>\n",
       "      <td>317</td>\n",
       "      <td>52.4</td>\n",
       "      <td>1848</td>\n",
       "      <td>0.068150</td>\n",
       "    </tr>\n",
       "    <tr>\n",
       "      <th>3</th>\n",
       "      <td>경상북도</td>\n",
       "      <td>798</td>\n",
       "      <td>457</td>\n",
       "      <td>57.2</td>\n",
       "      <td>1895</td>\n",
       "      <td>0.085866</td>\n",
       "    </tr>\n",
       "    <tr>\n",
       "      <th>4</th>\n",
       "      <td>광주광역시</td>\n",
       "      <td>372</td>\n",
       "      <td>126</td>\n",
       "      <td>33.8</td>\n",
       "      <td>1552</td>\n",
       "      <td>0.135269</td>\n",
       "    </tr>\n",
       "    <tr>\n",
       "      <th>5</th>\n",
       "      <td>대구광역시</td>\n",
       "      <td>600</td>\n",
       "      <td>264</td>\n",
       "      <td>44.0</td>\n",
       "      <td>6738</td>\n",
       "      <td>0.337112</td>\n",
       "    </tr>\n",
       "    <tr>\n",
       "      <th>6</th>\n",
       "      <td>대전광역시</td>\n",
       "      <td>223</td>\n",
       "      <td>102</td>\n",
       "      <td>45.7</td>\n",
       "      <td>1400</td>\n",
       "      <td>0.117602</td>\n",
       "    </tr>\n",
       "    <tr>\n",
       "      <th>7</th>\n",
       "      <td>부산광역시</td>\n",
       "      <td>342</td>\n",
       "      <td>121</td>\n",
       "      <td>35.3</td>\n",
       "      <td>1516</td>\n",
       "      <td>0.053065</td>\n",
       "    </tr>\n",
       "    <tr>\n",
       "      <th>8</th>\n",
       "      <td>서울특별시</td>\n",
       "      <td>1211</td>\n",
       "      <td>425</td>\n",
       "      <td>35.0</td>\n",
       "      <td>11580</td>\n",
       "      <td>0.143738</td>\n",
       "    </tr>\n",
       "    <tr>\n",
       "      <th>9</th>\n",
       "      <td>세종특별자치시</td>\n",
       "      <td>71</td>\n",
       "      <td>32</td>\n",
       "      <td>45.0</td>\n",
       "      <td>234</td>\n",
       "      <td>0.100895</td>\n",
       "    </tr>\n",
       "    <tr>\n",
       "      <th>10</th>\n",
       "      <td>울산광역시</td>\n",
       "      <td>202</td>\n",
       "      <td>103</td>\n",
       "      <td>50.9</td>\n",
       "      <td>854</td>\n",
       "      <td>0.092855</td>\n",
       "    </tr>\n",
       "    <tr>\n",
       "      <th>11</th>\n",
       "      <td>인천광역시</td>\n",
       "      <td>369</td>\n",
       "      <td>155</td>\n",
       "      <td>42.0</td>\n",
       "      <td>1082</td>\n",
       "      <td>0.045395</td>\n",
       "    </tr>\n",
       "    <tr>\n",
       "      <th>12</th>\n",
       "      <td>전라남도</td>\n",
       "      <td>618</td>\n",
       "      <td>358</td>\n",
       "      <td>57.9</td>\n",
       "      <td>2332</td>\n",
       "      <td>0.151245</td>\n",
       "    </tr>\n",
       "    <tr>\n",
       "      <th>13</th>\n",
       "      <td>전라북도</td>\n",
       "      <td>468</td>\n",
       "      <td>236</td>\n",
       "      <td>50.4</td>\n",
       "      <td>910</td>\n",
       "      <td>0.061060</td>\n",
       "    </tr>\n",
       "    <tr>\n",
       "      <th>14</th>\n",
       "      <td>제주특별자치도</td>\n",
       "      <td>1671</td>\n",
       "      <td>541</td>\n",
       "      <td>32.3</td>\n",
       "      <td>16352</td>\n",
       "      <td>3.118891</td>\n",
       "    </tr>\n",
       "    <tr>\n",
       "      <th>15</th>\n",
       "      <td>충청남도</td>\n",
       "      <td>470</td>\n",
       "      <td>261</td>\n",
       "      <td>55.5</td>\n",
       "      <td>957</td>\n",
       "      <td>0.055976</td>\n",
       "    </tr>\n",
       "    <tr>\n",
       "      <th>16</th>\n",
       "      <td>충청북도</td>\n",
       "      <td>395</td>\n",
       "      <td>243</td>\n",
       "      <td>61.5</td>\n",
       "      <td>1107</td>\n",
       "      <td>0.085429</td>\n",
       "    </tr>\n",
       "  </tbody>\n",
       "</table>\n",
       "</div>"
      ],
      "text/plain": [
       "       area  Charger  RapidCharger  RatioOfRC     EV  PopPerEV\n",
       "0       강원도      620           420       67.7   1260  0.099444\n",
       "1       경기도     1782           780       43.7   5672  0.054683\n",
       "2      경상남도      604           317       52.4   1848  0.068150\n",
       "3      경상북도      798           457       57.2   1895  0.085866\n",
       "4     광주광역시      372           126       33.8   1552  0.135269\n",
       "5     대구광역시      600           264       44.0   6738  0.337112\n",
       "6     대전광역시      223           102       45.7   1400  0.117602\n",
       "7     부산광역시      342           121       35.3   1516  0.053065\n",
       "8     서울특별시     1211           425       35.0  11580  0.143738\n",
       "9   세종특별자치시       71            32       45.0    234  0.100895\n",
       "10    울산광역시      202           103       50.9    854  0.092855\n",
       "11    인천광역시      369           155       42.0   1082  0.045395\n",
       "12     전라남도      618           358       57.9   2332  0.151245\n",
       "13     전라북도      468           236       50.4    910  0.061060\n",
       "14  제주특별자치도     1671           541       32.3  16352  3.118891\n",
       "15     충청남도      470           261       55.5    957  0.055976\n",
       "16     충청북도      395           243       61.5   1107  0.085429"
      ]
     },
     "execution_count": 63,
     "metadata": {},
     "output_type": "execute_result"
    }
   ],
   "source": [
    "frame"
   ]
  },
  {
   "cell_type": "code",
   "execution_count": 64,
   "metadata": {},
   "outputs": [
    {
     "data": {
      "text/plain": [
       "<matplotlib.axes._subplots.AxesSubplot at 0x1a24872550>"
      ]
     },
     "execution_count": 64,
     "metadata": {},
     "output_type": "execute_result"
    },
    {
     "data": {
      "image/png": "[encoded data removed]",
      "text/plain": [
       "<Figure size 432x288 with 1 Axes>"
      ]
     },
     "metadata": {
      "needs_background": "light"
     },
     "output_type": "display_data"
    }
   ],
   "source": [
    "sns.barplot(x='area', y='PopPerEV', data=frame)"
   ]
  },
  {
   "cell_type": "markdown",
   "metadata": {},
   "source": [
    "### [Theory 1]<br>전기차 대수 대비 충전기 비율이 높은 지역의 전기차 보급률이 높을 것이다."
   ]
  },
  {
   "cell_type": "markdown",
   "metadata": {},
   "source": [
    "#### 1.1 Data Processing"
   ]
  },
  {
   "cell_type": "code",
   "execution_count": 65,
   "metadata": {},
   "outputs": [],
   "source": [
    "frame_1 = pd.DataFrame(frame, columns = ['area', 'Charger', 'EV'])"
   ]
  },
  {
   "cell_type": "code",
   "execution_count": 66,
   "metadata": {},
   "outputs": [],
   "source": [
    "frame_1['ChargerPerVehicle'] = frame_1['Charger']/frame_1['EV']*100"
   ]
  },
  {
   "cell_type": "code",
   "execution_count": 67,
   "metadata": {
    "scrolled": true
   },
   "outputs": [
    {
     "data": {
      "text/html": [
       "<div>\n",
       "<style scoped>\n",
       "    .dataframe tbody tr th:only-of-type {\n",
       "        vertical-align: middle;\n",
       "    }\n",
       "\n",
       "    .dataframe tbody tr th {\n",
       "        vertical-align: top;\n",
       "    }\n",
       "\n",
       "    .dataframe thead th {\n",
       "        text-align: right;\n",
       "    }\n",
       "</style>\n",
       "<table border=\"1\" class=\"dataframe\">\n",
       "  <thead>\n",
       "    <tr style=\"text-align: right;\">\n",
       "      <th></th>\n",
       "      <th>area</th>\n",
       "      <th>Charger</th>\n",
       "      <th>EV</th>\n",
       "      <th>ChargerPerVehicle</th>\n",
       "    </tr>\n",
       "  </thead>\n",
       "  <tbody>\n",
       "    <tr>\n",
       "      <th>0</th>\n",
       "      <td>강원도</td>\n",
       "      <td>620</td>\n",
       "      <td>1260</td>\n",
       "      <td>49.206349</td>\n",
       "    </tr>\n",
       "    <tr>\n",
       "      <th>1</th>\n",
       "      <td>경기도</td>\n",
       "      <td>1782</td>\n",
       "      <td>5672</td>\n",
       "      <td>31.417489</td>\n",
       "    </tr>\n",
       "    <tr>\n",
       "      <th>2</th>\n",
       "      <td>경상남도</td>\n",
       "      <td>604</td>\n",
       "      <td>1848</td>\n",
       "      <td>32.683983</td>\n",
       "    </tr>\n",
       "    <tr>\n",
       "      <th>3</th>\n",
       "      <td>경상북도</td>\n",
       "      <td>798</td>\n",
       "      <td>1895</td>\n",
       "      <td>42.110818</td>\n",
       "    </tr>\n",
       "    <tr>\n",
       "      <th>4</th>\n",
       "      <td>광주광역시</td>\n",
       "      <td>372</td>\n",
       "      <td>1552</td>\n",
       "      <td>23.969072</td>\n",
       "    </tr>\n",
       "    <tr>\n",
       "      <th>5</th>\n",
       "      <td>대구광역시</td>\n",
       "      <td>600</td>\n",
       "      <td>6738</td>\n",
       "      <td>8.904720</td>\n",
       "    </tr>\n",
       "    <tr>\n",
       "      <th>6</th>\n",
       "      <td>대전광역시</td>\n",
       "      <td>223</td>\n",
       "      <td>1400</td>\n",
       "      <td>15.928571</td>\n",
       "    </tr>\n",
       "    <tr>\n",
       "      <th>7</th>\n",
       "      <td>부산광역시</td>\n",
       "      <td>342</td>\n",
       "      <td>1516</td>\n",
       "      <td>22.559367</td>\n",
       "    </tr>\n",
       "    <tr>\n",
       "      <th>8</th>\n",
       "      <td>서울특별시</td>\n",
       "      <td>1211</td>\n",
       "      <td>11580</td>\n",
       "      <td>10.457686</td>\n",
       "    </tr>\n",
       "    <tr>\n",
       "      <th>9</th>\n",
       "      <td>세종특별자치시</td>\n",
       "      <td>71</td>\n",
       "      <td>234</td>\n",
       "      <td>30.341880</td>\n",
       "    </tr>\n",
       "    <tr>\n",
       "      <th>10</th>\n",
       "      <td>울산광역시</td>\n",
       "      <td>202</td>\n",
       "      <td>854</td>\n",
       "      <td>23.653396</td>\n",
       "    </tr>\n",
       "    <tr>\n",
       "      <th>11</th>\n",
       "      <td>인천광역시</td>\n",
       "      <td>369</td>\n",
       "      <td>1082</td>\n",
       "      <td>34.103512</td>\n",
       "    </tr>\n",
       "    <tr>\n",
       "      <th>12</th>\n",
       "      <td>전라남도</td>\n",
       "      <td>618</td>\n",
       "      <td>2332</td>\n",
       "      <td>26.500858</td>\n",
       "    </tr>\n",
       "    <tr>\n",
       "      <th>13</th>\n",
       "      <td>전라북도</td>\n",
       "      <td>468</td>\n",
       "      <td>910</td>\n",
       "      <td>51.428571</td>\n",
       "    </tr>\n",
       "    <tr>\n",
       "      <th>14</th>\n",
       "      <td>제주특별자치도</td>\n",
       "      <td>1671</td>\n",
       "      <td>16352</td>\n",
       "      <td>10.218933</td>\n",
       "    </tr>\n",
       "    <tr>\n",
       "      <th>15</th>\n",
       "      <td>충청남도</td>\n",
       "      <td>470</td>\n",
       "      <td>957</td>\n",
       "      <td>49.111808</td>\n",
       "    </tr>\n",
       "    <tr>\n",
       "      <th>16</th>\n",
       "      <td>충청북도</td>\n",
       "      <td>395</td>\n",
       "      <td>1107</td>\n",
       "      <td>35.682023</td>\n",
       "    </tr>\n",
       "  </tbody>\n",
       "</table>\n",
       "</div>"
      ],
      "text/plain": [
       "       area  Charger     EV  ChargerPerVehicle\n",
       "0       강원도      620   1260          49.206349\n",
       "1       경기도     1782   5672          31.417489\n",
       "2      경상남도      604   1848          32.683983\n",
       "3      경상북도      798   1895          42.110818\n",
       "4     광주광역시      372   1552          23.969072\n",
       "5     대구광역시      600   6738           8.904720\n",
       "6     대전광역시      223   1400          15.928571\n",
       "7     부산광역시      342   1516          22.559367\n",
       "8     서울특별시     1211  11580          10.457686\n",
       "9   세종특별자치시       71    234          30.341880\n",
       "10    울산광역시      202    854          23.653396\n",
       "11    인천광역시      369   1082          34.103512\n",
       "12     전라남도      618   2332          26.500858\n",
       "13     전라북도      468    910          51.428571\n",
       "14  제주특별자치도     1671  16352          10.218933\n",
       "15     충청남도      470    957          49.111808\n",
       "16     충청북도      395   1107          35.682023"
      ]
     },
     "execution_count": 67,
     "metadata": {},
     "output_type": "execute_result"
    }
   ],
   "source": [
    "frame_1"
   ]
  },
  {
   "cell_type": "code",
   "execution_count": 68,
   "metadata": {},
   "outputs": [
    {
     "data": {
      "text/plain": [
       "<matplotlib.axes._subplots.AxesSubplot at 0x1a24f71a58>"
      ]
     },
     "execution_count": 68,
     "metadata": {},
     "output_type": "execute_result"
    },
    {
     "data": {
      "image/png": "[encoded data removed]",
      "text/plain": [
       "<Figure size 432x288 with 1 Axes>"
      ]
     },
     "metadata": {
      "needs_background": "light"
     },
     "output_type": "display_data"
    }
   ],
   "source": [
    "sns.barplot(x='area', y='ChargerPerVehicle', data=frame_1)"
   ]
  },
  {
   "cell_type": "markdown",
   "metadata": {},
   "source": [
    "#### 1.2 Data Visualization"
   ]
  },
  {
   "cell_type": "code",
   "execution_count": 69,
   "metadata": {
    "scrolled": true
   },
   "outputs": [
    {
     "name": "stderr",
     "output_type": "stream",
     "text": [
      "/Users/baesieun/.pyenv/versions/anaconda3-5.3.1/lib/python3.7/site-packages/scipy/stats/stats.py:1713: FutureWarning: Using a non-tuple sequence for multidimensional indexing is deprecated; use `arr[tuple(seq)]` instead of `arr[seq]`. In the future this will be interpreted as an array index, `arr[np.array(seq)]`, which will result either in an error or a different result.\n",
      "  return np.add.reduce(sorted[indexer] * weights, axis=axis) / sumval\n"
     ]
    },
    {
     "data": {
      "text/plain": [
       "Text(0.5,1,'Charger Per Vehicle')"
      ]
     },
     "execution_count": 69,
     "metadata": {},
     "output_type": "execute_result"
    },
    {
     "data": {
      "image/png": "[encoded data removed]",
      "text/plain": [
       "<Figure size 432x288 with 1 Axes>"
      ]
     },
     "metadata": {
      "needs_background": "light"
     },
     "output_type": "display_data"
    }
   ],
   "source": [
    "plt.figure()\n",
    "sns.regplot('ChargerPerVehicle','EV', data=frame_1)\n",
    "plt.title('Charger Per Vehicle')"
   ]
  },
  {
   "cell_type": "markdown",
   "metadata": {},
   "source": [
    "### ==> Specific Variable 땅 면적 대비 충전소 대수의 비율이 높은 지역이 전기차 보급률이 높을 것이다."
   ]
  },
  {
   "cell_type": "code",
   "execution_count": 100,
   "metadata": {},
   "outputs": [],
   "source": [
    "a_frame = pd.read_excel('area.xlsx')"
   ]
  },
  {
   "cell_type": "code",
   "execution_count": 71,
   "metadata": {},
   "outputs": [
    {
     "data": {
      "text/html": [
       "<div>\n",
       "<style scoped>\n",
       "    .dataframe tbody tr th:only-of-type {\n",
       "        vertical-align: middle;\n",
       "    }\n",
       "\n",
       "    .dataframe tbody tr th {\n",
       "        vertical-align: top;\n",
       "    }\n",
       "\n",
       "    .dataframe thead th {\n",
       "        text-align: right;\n",
       "    }\n",
       "</style>\n",
       "<table border=\"1\" class=\"dataframe\">\n",
       "  <thead>\n",
       "    <tr style=\"text-align: right;\">\n",
       "      <th></th>\n",
       "      <th>area</th>\n",
       "      <th>smeasure</th>\n",
       "    </tr>\n",
       "  </thead>\n",
       "  <tbody>\n",
       "    <tr>\n",
       "      <th>0</th>\n",
       "      <td>강원도</td>\n",
       "      <td>16828</td>\n",
       "    </tr>\n",
       "    <tr>\n",
       "      <th>1</th>\n",
       "      <td>경기도</td>\n",
       "      <td>10187</td>\n",
       "    </tr>\n",
       "    <tr>\n",
       "      <th>2</th>\n",
       "      <td>경상남도</td>\n",
       "      <td>10540</td>\n",
       "    </tr>\n",
       "    <tr>\n",
       "      <th>3</th>\n",
       "      <td>경상북도</td>\n",
       "      <td>19033</td>\n",
       "    </tr>\n",
       "    <tr>\n",
       "      <th>4</th>\n",
       "      <td>광주광역시</td>\n",
       "      <td>501</td>\n",
       "    </tr>\n",
       "  </tbody>\n",
       "</table>\n",
       "</div>"
      ],
      "text/plain": [
       "    area  smeasure\n",
       "0    강원도     16828\n",
       "1    경기도     10187\n",
       "2   경상남도     10540\n",
       "3   경상북도     19033\n",
       "4  광주광역시       501"
      ]
     },
     "execution_count": 71,
     "metadata": {},
     "output_type": "execute_result"
    }
   ],
   "source": [
    "a_frame.head()"
   ]
  },
  {
   "cell_type": "code",
   "execution_count": 72,
   "metadata": {},
   "outputs": [],
   "source": [
    "frame_1['MPerCharger'] = frame_1['EV']/a_frame['smeasure'].values*100"
   ]
  },
  {
   "cell_type": "code",
   "execution_count": 101,
   "metadata": {},
   "outputs": [
    {
     "data": {
      "text/html": [
       "<div>\n",
       "<style scoped>\n",
       "    .dataframe tbody tr th:only-of-type {\n",
       "        vertical-align: middle;\n",
       "    }\n",
       "\n",
       "    .dataframe tbody tr th {\n",
       "        vertical-align: top;\n",
       "    }\n",
       "\n",
       "    .dataframe thead th {\n",
       "        text-align: right;\n",
       "    }\n",
       "</style>\n",
       "<table border=\"1\" class=\"dataframe\">\n",
       "  <thead>\n",
       "    <tr style=\"text-align: right;\">\n",
       "      <th></th>\n",
       "      <th>area</th>\n",
       "      <th>Charger</th>\n",
       "      <th>EV</th>\n",
       "      <th>ChargerPerVehicle</th>\n",
       "      <th>MPerCharger</th>\n",
       "      <th>EVPerMperC</th>\n",
       "    </tr>\n",
       "  </thead>\n",
       "  <tbody>\n",
       "    <tr>\n",
       "      <th>0</th>\n",
       "      <td>강원도</td>\n",
       "      <td>620</td>\n",
       "      <td>1260</td>\n",
       "      <td>49.206349</td>\n",
       "      <td>7.487521</td>\n",
       "      <td>16828.0</td>\n",
       "    </tr>\n",
       "    <tr>\n",
       "      <th>1</th>\n",
       "      <td>경기도</td>\n",
       "      <td>1782</td>\n",
       "      <td>5672</td>\n",
       "      <td>31.417489</td>\n",
       "      <td>55.678806</td>\n",
       "      <td>10187.0</td>\n",
       "    </tr>\n",
       "    <tr>\n",
       "      <th>2</th>\n",
       "      <td>경상남도</td>\n",
       "      <td>604</td>\n",
       "      <td>1848</td>\n",
       "      <td>32.683983</td>\n",
       "      <td>17.533207</td>\n",
       "      <td>10540.0</td>\n",
       "    </tr>\n",
       "    <tr>\n",
       "      <th>3</th>\n",
       "      <td>경상북도</td>\n",
       "      <td>798</td>\n",
       "      <td>1895</td>\n",
       "      <td>42.110818</td>\n",
       "      <td>9.956392</td>\n",
       "      <td>19033.0</td>\n",
       "    </tr>\n",
       "    <tr>\n",
       "      <th>4</th>\n",
       "      <td>광주광역시</td>\n",
       "      <td>372</td>\n",
       "      <td>1552</td>\n",
       "      <td>23.969072</td>\n",
       "      <td>309.780439</td>\n",
       "      <td>501.0</td>\n",
       "    </tr>\n",
       "  </tbody>\n",
       "</table>\n",
       "</div>"
      ],
      "text/plain": [
       "    area  Charger    EV  ChargerPerVehicle  MPerCharger  EVPerMperC\n",
       "0    강원도      620  1260          49.206349     7.487521     16828.0\n",
       "1    경기도     1782  5672          31.417489    55.678806     10187.0\n",
       "2   경상남도      604  1848          32.683983    17.533207     10540.0\n",
       "3   경상북도      798  1895          42.110818     9.956392     19033.0\n",
       "4  광주광역시      372  1552          23.969072   309.780439       501.0"
      ]
     },
     "execution_count": 101,
     "metadata": {},
     "output_type": "execute_result"
    }
   ],
   "source": [
    "frame_1.head()"
   ]
  },
  {
   "cell_type": "code",
   "execution_count": 74,
   "metadata": {},
   "outputs": [
    {
     "data": {
      "image/png": "[encoded data removed]",
      "text/plain": [
       "<Figure size 432x288 with 1 Axes>"
      ]
     },
     "metadata": {
      "needs_background": "light"
     },
     "output_type": "display_data"
    }
   ],
   "source": [
    "plt.figure()\n",
    "plt.scatter(frame_1['Charger'],a_frame['smeasure'],s=frame_1['MPerCharger'])\n",
    "plt.xlabel('Number of charging station')\n",
    "plt.ylabel('Area')\n",
    "plt.show()"
   ]
  },
  {
   "cell_type": "code",
   "execution_count": 75,
   "metadata": {},
   "outputs": [],
   "source": [
    "frame_1['EVPerMperC'] = frame_1['EV']/frame_1['MPerCharger'].values*100"
   ]
  },
  {
   "cell_type": "code",
   "execution_count": 77,
   "metadata": {},
   "outputs": [
    {
     "name": "stderr",
     "output_type": "stream",
     "text": [
      "/Users/baesieun/.pyenv/versions/anaconda3-5.3.1/lib/python3.7/site-packages/scipy/stats/stats.py:1713: FutureWarning: Using a non-tuple sequence for multidimensional indexing is deprecated; use `arr[tuple(seq)]` instead of `arr[seq]`. In the future this will be interpreted as an array index, `arr[np.array(seq)]`, which will result either in an error or a different result.\n",
      "  return np.add.reduce(sorted[indexer] * weights, axis=axis) / sumval\n"
     ]
    },
    {
     "data": {
      "text/plain": [
       "Text(0.5,1,'MeasurePerCharger Per Electric Vehicle')"
      ]
     },
     "execution_count": 77,
     "metadata": {},
     "output_type": "execute_result"
    },
    {
     "data": {
      "image/png": "[encoded data removed]",
      "text/plain": [
       "<Figure size 432x288 with 1 Axes>"
      ]
     },
     "metadata": {
      "needs_background": "light"
     },
     "output_type": "display_data"
    }
   ],
   "source": [
    "plt.figure()\n",
    "sns.regplot('MPerCharger','EV', data=frame_1)\n",
    "plt.title('MeasurePerCharger Per Electric Vehicle')"
   ]
  },
  {
   "cell_type": "code",
   "execution_count": null,
   "metadata": {},
   "outputs": [],
   "source": []
  },
  {
   "cell_type": "markdown",
   "metadata": {},
   "source": [
    "### [Theory 2]<br>급속충전기 비율이 높은 지역의 전기차 보급률이 높을 것이다."
   ]
  },
  {
   "cell_type": "code",
   "execution_count": 93,
   "metadata": {},
   "outputs": [],
   "source": [
    "frame_2 = pd.DataFrame(frame, columns = ['area', 'RapidCharger', 'RatioOfRC','EV'])"
   ]
  },
  {
   "cell_type": "code",
   "execution_count": 94,
   "metadata": {
    "scrolled": false
   },
   "outputs": [
    {
     "data": {
      "text/html": [
       "<div>\n",
       "<style scoped>\n",
       "    .dataframe tbody tr th:only-of-type {\n",
       "        vertical-align: middle;\n",
       "    }\n",
       "\n",
       "    .dataframe tbody tr th {\n",
       "        vertical-align: top;\n",
       "    }\n",
       "\n",
       "    .dataframe thead th {\n",
       "        text-align: right;\n",
       "    }\n",
       "</style>\n",
       "<table border=\"1\" class=\"dataframe\">\n",
       "  <thead>\n",
       "    <tr style=\"text-align: right;\">\n",
       "      <th></th>\n",
       "      <th>area</th>\n",
       "      <th>RapidCharger</th>\n",
       "      <th>RatioOfRC</th>\n",
       "      <th>EV</th>\n",
       "    </tr>\n",
       "  </thead>\n",
       "  <tbody>\n",
       "    <tr>\n",
       "      <th>0</th>\n",
       "      <td>강원도</td>\n",
       "      <td>420</td>\n",
       "      <td>67.7</td>\n",
       "      <td>1260</td>\n",
       "    </tr>\n",
       "    <tr>\n",
       "      <th>1</th>\n",
       "      <td>경기도</td>\n",
       "      <td>780</td>\n",
       "      <td>43.7</td>\n",
       "      <td>5672</td>\n",
       "    </tr>\n",
       "    <tr>\n",
       "      <th>2</th>\n",
       "      <td>경상남도</td>\n",
       "      <td>317</td>\n",
       "      <td>52.4</td>\n",
       "      <td>1848</td>\n",
       "    </tr>\n",
       "    <tr>\n",
       "      <th>3</th>\n",
       "      <td>경상북도</td>\n",
       "      <td>457</td>\n",
       "      <td>57.2</td>\n",
       "      <td>1895</td>\n",
       "    </tr>\n",
       "    <tr>\n",
       "      <th>4</th>\n",
       "      <td>광주광역시</td>\n",
       "      <td>126</td>\n",
       "      <td>33.8</td>\n",
       "      <td>1552</td>\n",
       "    </tr>\n",
       "    <tr>\n",
       "      <th>5</th>\n",
       "      <td>대구광역시</td>\n",
       "      <td>264</td>\n",
       "      <td>44.0</td>\n",
       "      <td>6738</td>\n",
       "    </tr>\n",
       "    <tr>\n",
       "      <th>6</th>\n",
       "      <td>대전광역시</td>\n",
       "      <td>102</td>\n",
       "      <td>45.7</td>\n",
       "      <td>1400</td>\n",
       "    </tr>\n",
       "    <tr>\n",
       "      <th>7</th>\n",
       "      <td>부산광역시</td>\n",
       "      <td>121</td>\n",
       "      <td>35.3</td>\n",
       "      <td>1516</td>\n",
       "    </tr>\n",
       "    <tr>\n",
       "      <th>8</th>\n",
       "      <td>서울특별시</td>\n",
       "      <td>425</td>\n",
       "      <td>35.0</td>\n",
       "      <td>11580</td>\n",
       "    </tr>\n",
       "    <tr>\n",
       "      <th>9</th>\n",
       "      <td>세종특별자치시</td>\n",
       "      <td>32</td>\n",
       "      <td>45.0</td>\n",
       "      <td>234</td>\n",
       "    </tr>\n",
       "    <tr>\n",
       "      <th>10</th>\n",
       "      <td>울산광역시</td>\n",
       "      <td>103</td>\n",
       "      <td>50.9</td>\n",
       "      <td>854</td>\n",
       "    </tr>\n",
       "    <tr>\n",
       "      <th>11</th>\n",
       "      <td>인천광역시</td>\n",
       "      <td>155</td>\n",
       "      <td>42.0</td>\n",
       "      <td>1082</td>\n",
       "    </tr>\n",
       "    <tr>\n",
       "      <th>12</th>\n",
       "      <td>전라남도</td>\n",
       "      <td>358</td>\n",
       "      <td>57.9</td>\n",
       "      <td>2332</td>\n",
       "    </tr>\n",
       "    <tr>\n",
       "      <th>13</th>\n",
       "      <td>전라북도</td>\n",
       "      <td>236</td>\n",
       "      <td>50.4</td>\n",
       "      <td>910</td>\n",
       "    </tr>\n",
       "    <tr>\n",
       "      <th>14</th>\n",
       "      <td>제주특별자치도</td>\n",
       "      <td>541</td>\n",
       "      <td>32.3</td>\n",
       "      <td>16352</td>\n",
       "    </tr>\n",
       "    <tr>\n",
       "      <th>15</th>\n",
       "      <td>충청남도</td>\n",
       "      <td>261</td>\n",
       "      <td>55.5</td>\n",
       "      <td>957</td>\n",
       "    </tr>\n",
       "    <tr>\n",
       "      <th>16</th>\n",
       "      <td>충청북도</td>\n",
       "      <td>243</td>\n",
       "      <td>61.5</td>\n",
       "      <td>1107</td>\n",
       "    </tr>\n",
       "  </tbody>\n",
       "</table>\n",
       "</div>"
      ],
      "text/plain": [
       "       area  RapidCharger  RatioOfRC     EV\n",
       "0       강원도           420       67.7   1260\n",
       "1       경기도           780       43.7   5672\n",
       "2      경상남도           317       52.4   1848\n",
       "3      경상북도           457       57.2   1895\n",
       "4     광주광역시           126       33.8   1552\n",
       "5     대구광역시           264       44.0   6738\n",
       "6     대전광역시           102       45.7   1400\n",
       "7     부산광역시           121       35.3   1516\n",
       "8     서울특별시           425       35.0  11580\n",
       "9   세종특별자치시            32       45.0    234\n",
       "10    울산광역시           103       50.9    854\n",
       "11    인천광역시           155       42.0   1082\n",
       "12     전라남도           358       57.9   2332\n",
       "13     전라북도           236       50.4    910\n",
       "14  제주특별자치도           541       32.3  16352\n",
       "15     충청남도           261       55.5    957\n",
       "16     충청북도           243       61.5   1107"
      ]
     },
     "execution_count": 94,
     "metadata": {},
     "output_type": "execute_result"
    }
   ],
   "source": [
    "frame_2"
   ]
  },
  {
   "cell_type": "markdown",
   "metadata": {},
   "source": [
    "### Ratio of Rapid Charger"
   ]
  },
  {
   "cell_type": "code",
   "execution_count": 99,
   "metadata": {},
   "outputs": [
    {
     "data": {
      "text/plain": [
       "<matplotlib.axes._subplots.AxesSubplot at 0x1a24083cc0>"
      ]
     },
     "execution_count": 99,
     "metadata": {},
     "output_type": "execute_result"
    },
    {
     "data": {
      "image/png": "[encoded data removed]",
      "text/plain": [
       "<Figure size 432x288 with 1 Axes>"
      ]
     },
     "metadata": {
      "needs_background": "light"
     },
     "output_type": "display_data"
    }
   ],
   "source": [
    "plt.figure()\n",
    "sns.barplot('area','RatioOfRC', data=frame_2)"
   ]
  },
  {
   "cell_type": "markdown",
   "metadata": {},
   "source": [
    "### Relationship between MeasurePerRapidCharger and the Number of Electric Vehicle"
   ]
  },
  {
   "cell_type": "code",
   "execution_count": 103,
   "metadata": {},
   "outputs": [],
   "source": [
    "frame_2['MeasurePerRC'] = frame_2['RapidCharger'] / a_frame['smeasure'] * 1000"
   ]
  },
  {
   "cell_type": "code",
   "execution_count": 106,
   "metadata": {
    "scrolled": true
   },
   "outputs": [
    {
     "data": {
      "text/html": [
       "<div>\n",
       "<style scoped>\n",
       "    .dataframe tbody tr th:only-of-type {\n",
       "        vertical-align: middle;\n",
       "    }\n",
       "\n",
       "    .dataframe tbody tr th {\n",
       "        vertical-align: top;\n",
       "    }\n",
       "\n",
       "    .dataframe thead th {\n",
       "        text-align: right;\n",
       "    }\n",
       "</style>\n",
       "<table border=\"1\" class=\"dataframe\">\n",
       "  <thead>\n",
       "    <tr style=\"text-align: right;\">\n",
       "      <th></th>\n",
       "      <th>area</th>\n",
       "      <th>RapidCharger</th>\n",
       "      <th>RatioOfRC</th>\n",
       "      <th>EV</th>\n",
       "      <th>MeasurePerRC</th>\n",
       "    </tr>\n",
       "  </thead>\n",
       "  <tbody>\n",
       "    <tr>\n",
       "      <th>0</th>\n",
       "      <td>강원도</td>\n",
       "      <td>420</td>\n",
       "      <td>67.7</td>\n",
       "      <td>1260</td>\n",
       "      <td>24.958403</td>\n",
       "    </tr>\n",
       "    <tr>\n",
       "      <th>1</th>\n",
       "      <td>경기도</td>\n",
       "      <td>780</td>\n",
       "      <td>43.7</td>\n",
       "      <td>5672</td>\n",
       "      <td>76.568175</td>\n",
       "    </tr>\n",
       "    <tr>\n",
       "      <th>2</th>\n",
       "      <td>경상남도</td>\n",
       "      <td>317</td>\n",
       "      <td>52.4</td>\n",
       "      <td>1848</td>\n",
       "      <td>30.075901</td>\n",
       "    </tr>\n",
       "    <tr>\n",
       "      <th>3</th>\n",
       "      <td>경상북도</td>\n",
       "      <td>457</td>\n",
       "      <td>57.2</td>\n",
       "      <td>1895</td>\n",
       "      <td>24.010928</td>\n",
       "    </tr>\n",
       "    <tr>\n",
       "      <th>4</th>\n",
       "      <td>광주광역시</td>\n",
       "      <td>126</td>\n",
       "      <td>33.8</td>\n",
       "      <td>1552</td>\n",
       "      <td>251.497006</td>\n",
       "    </tr>\n",
       "  </tbody>\n",
       "</table>\n",
       "</div>"
      ],
      "text/plain": [
       "    area  RapidCharger  RatioOfRC    EV  MeasurePerRC\n",
       "0    강원도           420       67.7  1260     24.958403\n",
       "1    경기도           780       43.7  5672     76.568175\n",
       "2   경상남도           317       52.4  1848     30.075901\n",
       "3   경상북도           457       57.2  1895     24.010928\n",
       "4  광주광역시           126       33.8  1552    251.497006"
      ]
     },
     "execution_count": 106,
     "metadata": {},
     "output_type": "execute_result"
    }
   ],
   "source": [
    "frame_2.head()"
   ]
  },
  {
   "cell_type": "code",
   "execution_count": 105,
   "metadata": {},
   "outputs": [
    {
     "name": "stderr",
     "output_type": "stream",
     "text": [
      "/Users/baesieun/.pyenv/versions/anaconda3-5.3.1/lib/python3.7/site-packages/scipy/stats/stats.py:1713: FutureWarning: Using a non-tuple sequence for multidimensional indexing is deprecated; use `arr[tuple(seq)]` instead of `arr[seq]`. In the future this will be interpreted as an array index, `arr[np.array(seq)]`, which will result either in an error or a different result.\n",
      "  return np.add.reduce(sorted[indexer] * weights, axis=axis) / sumval\n"
     ]
    },
    {
     "data": {
      "text/plain": [
       "Text(0.5,1,'MeasurePer Rapid Charger Per Electric Vehicle')"
      ]
     },
     "execution_count": 105,
     "metadata": {},
     "output_type": "execute_result"
    },
    {
     "data": {
      "image/png": "[encoded data removed]",
      "text/plain": [
       "<Figure size 432x288 with 1 Axes>"
      ]
     },
     "metadata": {
      "needs_background": "light"
     },
     "output_type": "display_data"
    }
   ],
   "source": [
    "plt.figure()\n",
    "sns.regplot('MeasurePerRC','EV', data=frame_2)\n",
    "plt.title('MeasurePer Rapid Charger Per Electric Vehicle')"
   ]
  },
  {
   "cell_type": "markdown",
   "metadata": {},
   "source": [
    "1. 충전기 대수와 급속충전기 대수 비율 지역별로 구하여 저장한 뒤 시각화\n",
    "2. 급속 충전기 비율이 높은 곳의 전기차 보급률 확인"
   ]
  },
  {
   "cell_type": "code",
   "execution_count": null,
   "metadata": {},
   "outputs": [],
   "source": []
  }
 ],
 "metadata": {
  "kernelspec": {
   "display_name": "Python 3",
   "language": "python",
   "name": "python3"
  },
  "language_info": {
   "codemirror_mode": {
    "name": "ipython",
    "version": 3
   },
   "file_extension": ".py",
   "mimetype": "text/x-python",
   "name": "python",
   "nbconvert_exporter": "python",
   "pygments_lexer": "ipython3",
   "version": "3.7.0"
  }
 },
 "nbformat": 4,
 "nbformat_minor": 2
}
